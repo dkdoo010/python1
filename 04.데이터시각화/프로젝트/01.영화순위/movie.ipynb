{
 "cells": [
  {
   "cell_type": "code",
   "execution_count": 34,
   "id": "78945e1b",
   "metadata": {},
   "outputs": [],
   "source": [
    "data = {\n",
    "    '영화' : ['명량', '극한 직업', '신과 함께-죄와 벌', '국제시장', '괴물', '도둑들', '7번 방의 선물', '암살'],\n",
    "    '개봉연도' : [2014, 2019, 2017, 2014, 2006, 2012, 2013, 2015],\n",
    "    '관객수' : [1761, 1626, 1441, 1426, 1301, 1298, 1281, 1270],\n",
    "    '평점' : [8.88, 9.20, 8.73, 9.16, 8.62, 7.64, 8.83, 9.10]\n",
    "}"
   ]
  },
  {
   "cell_type": "code",
   "execution_count": 35,
   "id": "3af54f78",
   "metadata": {},
   "outputs": [],
   "source": [
    "import matplotlib.pyplot as plt\n",
    "plt.rc('font', family='Malgun gothic')\n",
    "plt.rc('axes', unicode_minus=False)"
   ]
  },
  {
   "cell_type": "code",
   "execution_count": 36,
   "id": "44b7236c",
   "metadata": {},
   "outputs": [
    {
     "data": {
      "text/html": [
       "<div>\n",
       "<style scoped>\n",
       "    .dataframe tbody tr th:only-of-type {\n",
       "        vertical-align: middle;\n",
       "    }\n",
       "\n",
       "    .dataframe tbody tr th {\n",
       "        vertical-align: top;\n",
       "    }\n",
       "\n",
       "    .dataframe thead th {\n",
       "        text-align: right;\n",
       "    }\n",
       "</style>\n",
       "<table border=\"1\" class=\"dataframe\">\n",
       "  <thead>\n",
       "    <tr style=\"text-align: right;\">\n",
       "      <th></th>\n",
       "      <th>영화</th>\n",
       "      <th>개봉연도</th>\n",
       "      <th>관객수</th>\n",
       "      <th>평점</th>\n",
       "    </tr>\n",
       "  </thead>\n",
       "  <tbody>\n",
       "    <tr>\n",
       "      <th>0</th>\n",
       "      <td>명량</td>\n",
       "      <td>2014</td>\n",
       "      <td>1761</td>\n",
       "      <td>8.88</td>\n",
       "    </tr>\n",
       "    <tr>\n",
       "      <th>1</th>\n",
       "      <td>극한 직업</td>\n",
       "      <td>2019</td>\n",
       "      <td>1626</td>\n",
       "      <td>9.20</td>\n",
       "    </tr>\n",
       "    <tr>\n",
       "      <th>2</th>\n",
       "      <td>신과 함께-죄와 벌</td>\n",
       "      <td>2017</td>\n",
       "      <td>1441</td>\n",
       "      <td>8.73</td>\n",
       "    </tr>\n",
       "    <tr>\n",
       "      <th>3</th>\n",
       "      <td>국제시장</td>\n",
       "      <td>2014</td>\n",
       "      <td>1426</td>\n",
       "      <td>9.16</td>\n",
       "    </tr>\n",
       "    <tr>\n",
       "      <th>4</th>\n",
       "      <td>괴물</td>\n",
       "      <td>2006</td>\n",
       "      <td>1301</td>\n",
       "      <td>8.62</td>\n",
       "    </tr>\n",
       "    <tr>\n",
       "      <th>5</th>\n",
       "      <td>도둑들</td>\n",
       "      <td>2012</td>\n",
       "      <td>1298</td>\n",
       "      <td>7.64</td>\n",
       "    </tr>\n",
       "    <tr>\n",
       "      <th>6</th>\n",
       "      <td>7번 방의 선물</td>\n",
       "      <td>2013</td>\n",
       "      <td>1281</td>\n",
       "      <td>8.83</td>\n",
       "    </tr>\n",
       "    <tr>\n",
       "      <th>7</th>\n",
       "      <td>암살</td>\n",
       "      <td>2015</td>\n",
       "      <td>1270</td>\n",
       "      <td>9.10</td>\n",
       "    </tr>\n",
       "  </tbody>\n",
       "</table>\n",
       "</div>"
      ],
      "text/plain": [
       "           영화  개봉연도   관객수    평점\n",
       "0          명량  2014  1761  8.88\n",
       "1       극한 직업  2019  1626  9.20\n",
       "2  신과 함께-죄와 벌  2017  1441  8.73\n",
       "3        국제시장  2014  1426  9.16\n",
       "4          괴물  2006  1301  8.62\n",
       "5         도둑들  2012  1298  7.64\n",
       "6    7번 방의 선물  2013  1281  8.83\n",
       "7          암살  2015  1270  9.10"
      ]
     },
     "execution_count": 36,
     "metadata": {},
     "output_type": "execute_result"
    }
   ],
   "source": [
    "import pandas as pd\n",
    "df = pd.DataFrame(data)\n",
    "df"
   ]
  },
  {
   "cell_type": "code",
   "execution_count": 39,
   "id": "f16ccbb5",
   "metadata": {},
   "outputs": [
    {
     "data": {
      "text/html": [
       "<div>\n",
       "<style scoped>\n",
       "    .dataframe tbody tr th:only-of-type {\n",
       "        vertical-align: middle;\n",
       "    }\n",
       "\n",
       "    .dataframe tbody tr th {\n",
       "        vertical-align: top;\n",
       "    }\n",
       "\n",
       "    .dataframe thead th {\n",
       "        text-align: right;\n",
       "    }\n",
       "</style>\n",
       "<table border=\"1\" class=\"dataframe\">\n",
       "  <thead>\n",
       "    <tr style=\"text-align: right;\">\n",
       "      <th></th>\n",
       "      <th>개봉연도</th>\n",
       "      <th>관객수</th>\n",
       "    </tr>\n",
       "  </thead>\n",
       "  <tbody>\n",
       "    <tr>\n",
       "      <th>0</th>\n",
       "      <td>2006</td>\n",
       "      <td>1301</td>\n",
       "    </tr>\n",
       "    <tr>\n",
       "      <th>1</th>\n",
       "      <td>2012</td>\n",
       "      <td>1298</td>\n",
       "    </tr>\n",
       "    <tr>\n",
       "      <th>2</th>\n",
       "      <td>2013</td>\n",
       "      <td>1281</td>\n",
       "    </tr>\n",
       "    <tr>\n",
       "      <th>3</th>\n",
       "      <td>2014</td>\n",
       "      <td>3187</td>\n",
       "    </tr>\n",
       "    <tr>\n",
       "      <th>4</th>\n",
       "      <td>2015</td>\n",
       "      <td>1270</td>\n",
       "    </tr>\n",
       "    <tr>\n",
       "      <th>5</th>\n",
       "      <td>2017</td>\n",
       "      <td>1441</td>\n",
       "    </tr>\n",
       "    <tr>\n",
       "      <th>6</th>\n",
       "      <td>2019</td>\n",
       "      <td>1626</td>\n",
       "    </tr>\n",
       "  </tbody>\n",
       "</table>\n",
       "</div>"
      ],
      "text/plain": [
       "   개봉연도   관객수\n",
       "0  2006  1301\n",
       "1  2012  1298\n",
       "2  2013  1281\n",
       "3  2014  3187\n",
       "4  2015  1270\n",
       "5  2017  1441\n",
       "6  2019  1626"
      ]
     },
     "execution_count": 39,
     "metadata": {},
     "output_type": "execute_result"
    }
   ],
   "source": [
    "group = df.groupby(['개봉연도'])['관객수'].sum().to_frame()\n",
    "df2 = group.copy()\n",
    "df2.reset_index(inplace=True)\n",
    "df2['개봉연도'] = df2['개봉연도'].astype(str)\n",
    "df2"
   ]
  },
  {
   "cell_type": "code",
   "execution_count": 40,
   "id": "c7fde560",
   "metadata": {},
   "outputs": [
    {
     "data": {
      "image/png": "[encoded data removed]",
      "text/plain": [
       "<Figure size 640x480 with 1 Axes>"
      ]
     },
     "metadata": {},
     "output_type": "display_data"
    }
   ],
   "source": [
    "plt.bar(df2['개봉연도'], df2['관객수'])\n",
    "xticks = [x+'년도' for x in df2['개봉연도']]\n",
    "plt.xticks(df2['개봉연도'], xticks, rotation=45)\n",
    "\n",
    "plt.ylim(0, max+100)\n",
    "yticks = [x for x in range(0, max+101, 500)]\n",
    "plt.yticks(yticks, [f'{ytick:,}만명' for ytick in yticks])\n",
    "plt.show()\n",
    "# yticks = [f'{y:,}만명' for y in range(min(df2['관객수']]\n",
    "# plt.yticks(df2['관객수'], yticks)\n",
    "# plt.show"
   ]
  },
  {
   "cell_type": "code",
   "execution_count": null,
   "id": "31534b70",
   "metadata": {},
   "outputs": [
    {
     "data": {
      "text/plain": [
       "(1270, 1761)"
      ]
     },
     "execution_count": 31,
     "metadata": {},
     "output_type": "execute_result"
    }
   ],
   "source": [
    "min = min(df2['관객수'])\n",
    "max = max(df2['관객수'])\n",
    "min,max"
   ]
  },
  {
   "cell_type": "code",
   "execution_count": 41,
   "id": "8c19a32c",
   "metadata": {},
   "outputs": [
    {
     "data": {
      "text/plain": [
       "개봉연도\n",
       "2006    8.62\n",
       "2012    7.64\n",
       "2013    8.83\n",
       "2014    9.02\n",
       "2015    9.10\n",
       "2017    8.73\n",
       "2019    9.20\n",
       "Name: 평점, dtype: float64"
      ]
     },
     "execution_count": 41,
     "metadata": {},
     "output_type": "execute_result"
    }
   ],
   "source": [
    "group = df.groupby('개봉연도')['평점'].mean()\n",
    "group"
   ]
  },
  {
   "cell_type": "code",
   "execution_count": 54,
   "id": "3873a1aa",
   "metadata": {},
   "outputs": [
    {
     "data": {
      "image/png": "[encoded data removed]",
      "text/plain": [
       "<Figure size 640x480 with 1 Axes>"
      ]
     },
     "metadata": {},
     "output_type": "display_data"
    }
   ],
   "source": [
    "import numpy as np\n",
    "plt.plot(group.index, group.values, marker='o')\n",
    "plt.ylim(7, 10)\n",
    "yticks = [y for y in np.arange(7.0, 10, 0.5)]\n",
    "plt.ylim(7, 10)\n",
    "plt.yticks(yticks)\n",
    "plt.show()"
   ]
  },
  {
   "cell_type": "code",
   "execution_count": null,
   "id": "35c2b7b1",
   "metadata": {},
   "outputs": [],
   "source": []
  },
  {
   "cell_type": "code",
   "execution_count": null,
   "id": "c42e5ddf",
   "metadata": {},
   "outputs": [],
   "source": []
  },
  {
   "cell_type": "code",
   "execution_count": null,
   "id": "1f80129f",
   "metadata": {},
   "outputs": [],
   "source": []
  },
  {
   "cell_type": "code",
   "execution_count": null,
   "id": "a75c5041",
   "metadata": {},
   "outputs": [],
   "source": []
  }
 ],
 "metadata": {
  "kernelspec": {
   "display_name": "Python 3",
   "language": "python",
   "name": "python3"
  },
  "language_info": {
   "codemirror_mode": {
    "name": "ipython",
    "version": 3
   },
   "file_extension": ".py",
   "mimetype": "text/x-python",
   "name": "python",
   "nbconvert_exporter": "python",
   "pygments_lexer": "ipython3",
   "version": "3.10.10"
  }
 },
 "nbformat": 4,
 "nbformat_minor": 5
}
