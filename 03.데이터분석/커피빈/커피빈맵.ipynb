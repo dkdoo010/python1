{
 "cells": [
  {
   "cell_type": "code",
   "execution_count": 4,
   "id": "895c7df6",
   "metadata": {},
   "outputs": [],
   "source": [
    "import pandas as pd"
   ]
  },
  {
   "cell_type": "code",
   "execution_count": 5,
   "id": "42e9d211",
   "metadata": {},
   "outputs": [
    {
     "data": {
      "text/html": [
       "<div>\n",
       "<style scoped>\n",
       "    .dataframe tbody tr th:only-of-type {\n",
       "        vertical-align: middle;\n",
       "    }\n",
       "\n",
       "    .dataframe tbody tr th {\n",
       "        vertical-align: top;\n",
       "    }\n",
       "\n",
       "    .dataframe thead th {\n",
       "        text-align: right;\n",
       "    }\n",
       "</style>\n",
       "<table border=\"1\" class=\"dataframe\">\n",
       "  <thead>\n",
       "    <tr style=\"text-align: right;\">\n",
       "      <th></th>\n",
       "      <th>Name</th>\n",
       "      <th>Address</th>\n",
       "      <th>Tel</th>\n",
       "    </tr>\n",
       "  </thead>\n",
       "  <tbody>\n",
       "    <tr>\n",
       "      <th>0</th>\n",
       "      <td>삼성봉은사거리점</td>\n",
       "      <td>서울시 강남구 영동대로 607 1,2층</td>\n",
       "      <td>02-3443-5618</td>\n",
       "    </tr>\n",
       "    <tr>\n",
       "      <th>1</th>\n",
       "      <td>코엑스웨스틴서울점</td>\n",
       "      <td>서울시 강남구 봉은사로 524 코엑스 인터컨티넨탈아케이드</td>\n",
       "      <td>02-569-3103</td>\n",
       "    </tr>\n",
       "    <tr>\n",
       "      <th>2</th>\n",
       "      <td>삼성오크우드점</td>\n",
       "      <td>서울 강남구 테헤란로87길 46 지하 2층</td>\n",
       "      <td>02-3466-8507</td>\n",
       "    </tr>\n",
       "    <tr>\n",
       "      <th>3</th>\n",
       "      <td>삼성봉은사로점</td>\n",
       "      <td>서울시 강남구 봉은사로 628 엘슨빌딩1층</td>\n",
       "      <td>02-538-4523</td>\n",
       "    </tr>\n",
       "    <tr>\n",
       "      <th>4</th>\n",
       "      <td>도심공항타워점</td>\n",
       "      <td>서울시 강남구 테헤란로87길 36 공항타워 1층</td>\n",
       "      <td>02-2016-5330</td>\n",
       "    </tr>\n",
       "    <tr>\n",
       "      <th>...</th>\n",
       "      <td>...</td>\n",
       "      <td>...</td>\n",
       "      <td>...</td>\n",
       "    </tr>\n",
       "    <tr>\n",
       "      <th>208</th>\n",
       "      <td>강동경희대병원앞점</td>\n",
       "      <td>서울특별시 강동구 동남로 885 양지빌딩 1층</td>\n",
       "      <td>02-481-9938</td>\n",
       "    </tr>\n",
       "    <tr>\n",
       "      <th>209</th>\n",
       "      <td>새문안로점</td>\n",
       "      <td>서울특별시 종로구 새문안로 91 고려빌딩 1,2층</td>\n",
       "      <td>02-739-5806</td>\n",
       "    </tr>\n",
       "    <tr>\n",
       "      <th>210</th>\n",
       "      <td>광화문역1번출구점</td>\n",
       "      <td>서울시 종로구 새문안로5가길 7 1층 일부</td>\n",
       "      <td>02-723-3360</td>\n",
       "    </tr>\n",
       "    <tr>\n",
       "      <th>211</th>\n",
       "      <td>성균관대법학관점</td>\n",
       "      <td>서울시 종로구 성균관로 25-2 성균관대학교 법학관 B2</td>\n",
       "      <td>02-740-1958</td>\n",
       "    </tr>\n",
       "    <tr>\n",
       "      <th>212</th>\n",
       "      <td>경희궁의아침점</td>\n",
       "      <td>서울시 종로구 새문안로3길 23 경희궁아침상가4단지105외</td>\n",
       "      <td>02-730-8896</td>\n",
       "    </tr>\n",
       "  </tbody>\n",
       "</table>\n",
       "<p>213 rows × 3 columns</p>\n",
       "</div>"
      ],
      "text/plain": [
       "          Name                           Address           Tel\n",
       "0     삼성봉은사거리점             서울시 강남구 영동대로 607 1,2층  02-3443-5618\n",
       "1    코엑스웨스틴서울점   서울시 강남구 봉은사로 524 코엑스 인터컨티넨탈아케이드   02-569-3103\n",
       "2      삼성오크우드점           서울 강남구 테헤란로87길 46 지하 2층  02-3466-8507\n",
       "3      삼성봉은사로점           서울시 강남구 봉은사로 628 엘슨빌딩1층   02-538-4523\n",
       "4      도심공항타워점        서울시 강남구 테헤란로87길 36 공항타워 1층  02-2016-5330\n",
       "..         ...                               ...           ...\n",
       "208  강동경희대병원앞점         서울특별시 강동구 동남로 885 양지빌딩 1층   02-481-9938\n",
       "209      새문안로점       서울특별시 종로구 새문안로 91 고려빌딩 1,2층   02-739-5806\n",
       "210  광화문역1번출구점           서울시 종로구 새문안로5가길 7 1층 일부   02-723-3360\n",
       "211   성균관대법학관점   서울시 종로구 성균관로 25-2 성균관대학교 법학관 B2   02-740-1958\n",
       "212    경희궁의아침점  서울시 종로구 새문안로3길 23 경희궁아침상가4단지105외   02-730-8896\n",
       "\n",
       "[213 rows x 3 columns]"
      ]
     },
     "execution_count": 5,
     "metadata": {},
     "output_type": "execute_result"
    }
   ],
   "source": [
    "df =pd.read_csv('커피빈매장.csv')\n",
    "df"
   ]
  },
  {
   "cell_type": "code",
   "execution_count": 31,
   "id": "a54ecc08",
   "metadata": {},
   "outputs": [],
   "source": [
    "import requests\n",
    "import urllib.parse\n",
    "\n",
    "def get_location(address):\n",
    "    encoded_address = urllib.parse.quote(address)\n",
    "    url = 'https://dapi.kakao.com/v2/local/search/address.json?query=' + encoded_address\n",
    "    headers = {'Authorization': 'KakaoAK 5cacdaa51d206ff5905771eb113bb8e4'}\n",
    "    res = requests.get(url, headers=headers).json()\n",
    "\n",
    "    if res['documents']:\n",
    "        x = res['documents'][0]['x']\n",
    "        y = res['documents'][0]['y']\n",
    "        return x, y\n",
    "    else:\n",
    "        return None, None\n"
   ]
  },
  {
   "cell_type": "code",
   "execution_count": 37,
   "id": "ef911e13",
   "metadata": {},
   "outputs": [
    {
     "name": "stdout",
     "output_type": "stream",
     "text": [
      ": 126.978652258309, : 37.5668260046608\n"
     ]
    }
   ],
   "source": [
    "x, y = get_location('서울시')\n",
    "if x and y:\n",
    "    print(f\": {x}, : {y}\")\n",
    "else:\n",
    "    print(\"주소를 찾을 수 없습니다.\")\n"
   ]
  },
  {
   "cell_type": "code",
   "execution_count": 40,
   "id": "8777e074",
   "metadata": {},
   "outputs": [
    {
     "data": {
      "text/html": [
       "<div>\n",
       "<style scoped>\n",
       "    .dataframe tbody tr th:only-of-type {\n",
       "        vertical-align: middle;\n",
       "    }\n",
       "\n",
       "    .dataframe tbody tr th {\n",
       "        vertical-align: top;\n",
       "    }\n",
       "\n",
       "    .dataframe thead th {\n",
       "        text-align: right;\n",
       "    }\n",
       "</style>\n",
       "<table border=\"1\" class=\"dataframe\">\n",
       "  <thead>\n",
       "    <tr style=\"text-align: right;\">\n",
       "      <th></th>\n",
       "      <th>Name</th>\n",
       "      <th>Address</th>\n",
       "      <th>Tel</th>\n",
       "      <th>X</th>\n",
       "      <th>Y</th>\n",
       "    </tr>\n",
       "  </thead>\n",
       "  <tbody>\n",
       "    <tr>\n",
       "      <th>0</th>\n",
       "      <td>삼성봉은사거리점</td>\n",
       "      <td>서울시 강남구 영동대로 607 1,2층</td>\n",
       "      <td>02-3443-5618</td>\n",
       "      <td></td>\n",
       "      <td></td>\n",
       "    </tr>\n",
       "    <tr>\n",
       "      <th>1</th>\n",
       "      <td>코엑스웨스틴서울점</td>\n",
       "      <td>서울시 강남구 봉은사로 524 코엑스 인터컨티넨탈아케이드</td>\n",
       "      <td>02-569-3103</td>\n",
       "      <td></td>\n",
       "      <td></td>\n",
       "    </tr>\n",
       "  </tbody>\n",
       "</table>\n",
       "</div>"
      ],
      "text/plain": [
       "        Name                          Address           Tel X Y\n",
       "0   삼성봉은사거리점            서울시 강남구 영동대로 607 1,2층  02-3443-5618    \n",
       "1  코엑스웨스틴서울점  서울시 강남구 봉은사로 524 코엑스 인터컨티넨탈아케이드   02-569-3103    "
      ]
     },
     "execution_count": 40,
     "metadata": {},
     "output_type": "execute_result"
    }
   ],
   "source": [
    "store = pd.read_csv('커피빈매장.csv')\n",
    "store['X'] = ''\n",
    "store['Y'] = ''\n",
    "store.head(2)"
   ]
  },
  {
   "cell_type": "code",
   "execution_count": 41,
   "id": "57dd139b",
   "metadata": {},
   "outputs": [],
   "source": [
    "for i in store.index:\n",
    "    address =store.loc[i, 'Address']\n",
    "    x, y = get_location(address)\n",
    "    store.loc[i, 'X'] = x\n",
    "    store.loc[i, 'Y'] = y"
   ]
  },
  {
   "cell_type": "code",
   "execution_count": 42,
   "id": "b6a5c45e",
   "metadata": {},
   "outputs": [],
   "source": [
    "store.isnull().sum()\n",
    "store.dropna(inplace=True)"
   ]
  },
  {
   "cell_type": "code",
   "execution_count": 43,
   "id": "56f7c671",
   "metadata": {},
   "outputs": [
    {
     "data": {
      "text/plain": [
       "Name       0\n",
       "Address    0\n",
       "Tel        0\n",
       "X          0\n",
       "Y          0\n",
       "dtype: int64"
      ]
     },
     "execution_count": 43,
     "metadata": {},
     "output_type": "execute_result"
    }
   ],
   "source": [
    "store.isnull().sum()"
   ]
  },
  {
   "cell_type": "code",
   "execution_count": 44,
   "id": "7985513b",
   "metadata": {},
   "outputs": [
    {
     "data": {
      "text/html": [
       "<div>\n",
       "<style scoped>\n",
       "    .dataframe tbody tr th:only-of-type {\n",
       "        vertical-align: middle;\n",
       "    }\n",
       "\n",
       "    .dataframe tbody tr th {\n",
       "        vertical-align: top;\n",
       "    }\n",
       "\n",
       "    .dataframe thead th {\n",
       "        text-align: right;\n",
       "    }\n",
       "</style>\n",
       "<table border=\"1\" class=\"dataframe\">\n",
       "  <thead>\n",
       "    <tr style=\"text-align: right;\">\n",
       "      <th></th>\n",
       "      <th>Name</th>\n",
       "      <th>Address</th>\n",
       "      <th>Tel</th>\n",
       "      <th>X</th>\n",
       "      <th>Y</th>\n",
       "    </tr>\n",
       "  </thead>\n",
       "  <tbody>\n",
       "    <tr>\n",
       "      <th>1</th>\n",
       "      <td>코엑스웨스틴서울점</td>\n",
       "      <td>서울시 강남구 봉은사로 524 코엑스 인터컨티넨탈아케이드</td>\n",
       "      <td>02-569-3103</td>\n",
       "      <td>127.057115600619</td>\n",
       "      <td>37.5129534255276</td>\n",
       "    </tr>\n",
       "    <tr>\n",
       "      <th>2</th>\n",
       "      <td>삼성오크우드점</td>\n",
       "      <td>서울 강남구 테헤란로87길 46 지하 2층</td>\n",
       "      <td>02-3466-8507</td>\n",
       "      <td>127.058205573267</td>\n",
       "      <td>37.5109823973192</td>\n",
       "    </tr>\n",
       "    <tr>\n",
       "      <th>3</th>\n",
       "      <td>삼성봉은사로점</td>\n",
       "      <td>서울시 강남구 봉은사로 628 엘슨빌딩1층</td>\n",
       "      <td>02-538-4523</td>\n",
       "      <td>127.064164448221</td>\n",
       "      <td>37.5146694627537</td>\n",
       "    </tr>\n",
       "    <tr>\n",
       "      <th>4</th>\n",
       "      <td>도심공항타워점</td>\n",
       "      <td>서울시 강남구 테헤란로87길 36 공항타워 1층</td>\n",
       "      <td>02-2016-5330</td>\n",
       "      <td>127.058597240146</td>\n",
       "      <td>37.5102336492314</td>\n",
       "    </tr>\n",
       "    <tr>\n",
       "      <th>5</th>\n",
       "      <td>트레이드타워점</td>\n",
       "      <td>서울시 강남구 영동대로 511 트레이드타워 지하1층</td>\n",
       "      <td>02-803-9994</td>\n",
       "      <td>127.061023782931</td>\n",
       "      <td>37.510356849269</td>\n",
       "    </tr>\n",
       "  </tbody>\n",
       "</table>\n",
       "</div>"
      ],
      "text/plain": [
       "        Name                          Address           Tel                 X  \\\n",
       "1  코엑스웨스틴서울점  서울시 강남구 봉은사로 524 코엑스 인터컨티넨탈아케이드   02-569-3103  127.057115600619   \n",
       "2    삼성오크우드점          서울 강남구 테헤란로87길 46 지하 2층  02-3466-8507  127.058205573267   \n",
       "3    삼성봉은사로점          서울시 강남구 봉은사로 628 엘슨빌딩1층   02-538-4523  127.064164448221   \n",
       "4    도심공항타워점       서울시 강남구 테헤란로87길 36 공항타워 1층  02-2016-5330  127.058597240146   \n",
       "5    트레이드타워점     서울시 강남구 영동대로 511 트레이드타워 지하1층   02-803-9994  127.061023782931   \n",
       "\n",
       "                  Y  \n",
       "1  37.5129534255276  \n",
       "2  37.5109823973192  \n",
       "3  37.5146694627537  \n",
       "4  37.5102336492314  \n",
       "5   37.510356849269  "
      ]
     },
     "execution_count": 44,
     "metadata": {},
     "output_type": "execute_result"
    }
   ],
   "source": [
    "store.head(5)"
   ]
  },
  {
   "cell_type": "code",
   "execution_count": 80,
   "id": "c79d433e",
   "metadata": {},
   "outputs": [],
   "source": [
    "store.to_csv('커피빈맵.csv', index=False)"
   ]
  },
  {
   "cell_type": "code",
   "execution_count": 81,
   "id": "fc5f45b3",
   "metadata": {},
   "outputs": [
    {
     "data": {
      "text/plain": [
       "<bound method DataFrame.info of      Unnamed: 0       Name                           Address           Tel  \\\n",
       "0             1  코엑스웨스틴서울점   서울시 강남구 봉은사로 524 코엑스 인터컨티넨탈아케이드   02-569-3103   \n",
       "1             2    삼성오크우드점           서울 강남구 테헤란로87길 46 지하 2층  02-3466-8507   \n",
       "2             3    삼성봉은사로점           서울시 강남구 봉은사로 628 엘슨빌딩1층   02-538-4523   \n",
       "3             4    도심공항타워점        서울시 강남구 테헤란로87길 36 공항타워 1층  02-2016-5330   \n",
       "4             5    트레이드타워점      서울시 강남구 영동대로 511 트레이드타워 지하1층   02-803-9994   \n",
       "..          ...        ...                               ...           ...   \n",
       "189         208  강동경희대병원앞점         서울특별시 강동구 동남로 885 양지빌딩 1층   02-481-9938   \n",
       "190         209      새문안로점       서울특별시 종로구 새문안로 91 고려빌딩 1,2층   02-739-5806   \n",
       "191         210  광화문역1번출구점           서울시 종로구 새문안로5가길 7 1층 일부   02-723-3360   \n",
       "192         211   성균관대법학관점   서울시 종로구 성균관로 25-2 성균관대학교 법학관 B2   02-740-1958   \n",
       "193         212    경희궁의아침점  서울시 종로구 새문안로3길 23 경희궁아침상가4단지105외   02-730-8896   \n",
       "\n",
       "              X          Y  \n",
       "0    127.057116  37.512953  \n",
       "1    127.058206  37.510982  \n",
       "2    127.064164  37.514669  \n",
       "3    127.058597  37.510234  \n",
       "4    127.061024  37.510357  \n",
       "..          ...        ...  \n",
       "189  127.155976  37.552654  \n",
       "190  126.974761  37.570488  \n",
       "191  126.974038  37.572771  \n",
       "192  126.993115  37.587228  \n",
       "193  126.972441  37.572631  \n",
       "\n",
       "[194 rows x 6 columns]>"
      ]
     },
     "execution_count": 81,
     "metadata": {},
     "output_type": "execute_result"
    }
   ],
   "source": [
    "store = pd.read_csv('커피빈맵.csv')\n",
    "store.info"
   ]
  },
  {
   "cell_type": "code",
   "execution_count": 82,
   "id": "fd706430",
   "metadata": {},
   "outputs": [
    {
     "data": {
      "text/html": [
       "<div>\n",
       "<style scoped>\n",
       "    .dataframe tbody tr th:only-of-type {\n",
       "        vertical-align: middle;\n",
       "    }\n",
       "\n",
       "    .dataframe tbody tr th {\n",
       "        vertical-align: top;\n",
       "    }\n",
       "\n",
       "    .dataframe thead th {\n",
       "        text-align: right;\n",
       "    }\n",
       "</style>\n",
       "<table border=\"1\" class=\"dataframe\">\n",
       "  <thead>\n",
       "    <tr style=\"text-align: right;\">\n",
       "      <th></th>\n",
       "      <th>Unnamed: 0</th>\n",
       "      <th>Name</th>\n",
       "      <th>Address</th>\n",
       "      <th>Tel</th>\n",
       "      <th>X</th>\n",
       "      <th>Y</th>\n",
       "    </tr>\n",
       "  </thead>\n",
       "  <tbody>\n",
       "    <tr>\n",
       "      <th>50</th>\n",
       "      <td>57</td>\n",
       "      <td>상암SBS프리즘타워점</td>\n",
       "      <td>서울 마포구 상암산로 82 SBS 프리즘 타워 1층 로비</td>\n",
       "      <td>02-562-9605</td>\n",
       "      <td>126.892774</td>\n",
       "      <td>37.579716</td>\n",
       "    </tr>\n",
       "    <tr>\n",
       "      <th>51</th>\n",
       "      <td>58</td>\n",
       "      <td>상암SBS미디어센터점</td>\n",
       "      <td>서울시 마포구 상암산로 82 SBS프리즘타워 1층</td>\n",
       "      <td>02-2039-9027</td>\n",
       "      <td>126.892774</td>\n",
       "      <td>37.579716</td>\n",
       "    </tr>\n",
       "  </tbody>\n",
       "</table>\n",
       "</div>"
      ],
      "text/plain": [
       "    Unnamed: 0         Name                          Address           Tel  \\\n",
       "50          57  상암SBS프리즘타워점  서울 마포구 상암산로 82 SBS 프리즘 타워 1층 로비   02-562-9605   \n",
       "51          58  상암SBS미디어센터점      서울시 마포구 상암산로 82 SBS프리즘타워 1층  02-2039-9027   \n",
       "\n",
       "             X          Y  \n",
       "50  126.892774  37.579716  \n",
       "51  126.892774  37.579716  "
      ]
     },
     "execution_count": 82,
     "metadata": {},
     "output_type": "execute_result"
    }
   ],
   "source": [
    "address='상암'\n",
    "filt = store['Address'].str.contains(address)\n",
    "df = store[filt]\n",
    "df"
   ]
  },
  {
   "cell_type": "code",
   "execution_count": 83,
   "id": "c0a4a3e0",
   "metadata": {},
   "outputs": [],
   "source": [
    "import folium\n",
    "\n",
    "def get_map(address):\n",
    "    filt = store['Address'].str.contains(address)\n",
    "    df = store[filt]\n",
    "    if len(df.index) == 0:\n",
    "        print('찾지 못함')\n",
    "    else:\n",
    "        first = df.head(1)\n",
    "        x = float(first.iloc[0]['X'])\n",
    "        y = float(first.iloc[0]['Y'])\n",
    "        map = folium.Map(location=[y, x], zoom_start=15)\n",
    "        for idx, row in df.iterrows():\n",
    "            name = row['Name']\n",
    "            x = float(row['X'])\n",
    "            y = float(row['Y'])\n",
    "            folium.Marker(\n",
    "                location=[y, x],\n",
    "                popup=folium.Popup(f'[{idx}]{name}', max_width=200),\n",
    "                icon=folium.Icon(color='green', icon='start')\n",
    "            ).add_to(map)\n",
    "        map.save(f'{address}.html')\n",
    "\n",
    "get_map('상암')"
   ]
  },
  {
   "cell_type": "code",
   "execution_count": null,
   "id": "60ae5336",
   "metadata": {},
   "outputs": [],
   "source": []
  },
  {
   "cell_type": "code",
   "execution_count": null,
   "id": "c5d8d739",
   "metadata": {},
   "outputs": [],
   "source": []
  }
 ],
 "metadata": {
  "kernelspec": {
   "display_name": "Python 3",
   "language": "python",
   "name": "python3"
  },
  "language_info": {
   "codemirror_mode": {
    "name": "ipython",
    "version": 3
   },
   "file_extension": ".py",
   "mimetype": "text/x-python",
   "name": "python",
   "nbconvert_exporter": "python",
   "pygments_lexer": "ipython3",
   "version": "3.10.10"
  }
 },
 "nbformat": 4,
 "nbformat_minor": 5
}
